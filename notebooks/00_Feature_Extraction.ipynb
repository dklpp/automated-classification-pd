{
 "cells": [
  {
   "cell_type": "code",
   "execution_count": 1,
   "id": "9031ac73",
   "metadata": {},
   "outputs": [
    {
     "name": "stdout",
     "output_type": "stream",
     "text": [
      "/Users/dmytro\n"
     ]
    }
   ],
   "source": [
    "cd"
   ]
  },
  {
   "cell_type": "code",
   "execution_count": 2,
   "id": "66296014",
   "metadata": {},
   "outputs": [
    {
     "name": "stdout",
     "output_type": "stream",
     "text": [
      "/Users/dmytro/Documents/Projects/PROJECT_main/bsc-thesis-vdu/libs\n"
     ]
    }
   ],
   "source": [
    "cd Documents/Projects/PROJECT_main/bsc-thesis-vdu/libs"
   ]
  },
  {
   "cell_type": "code",
   "execution_count": 3,
   "id": "a4e2f88b",
   "metadata": {},
   "outputs": [
    {
     "name": "stdout",
     "output_type": "stream",
     "text": [
      "\u001b[34m__pycache__\u001b[m\u001b[m/     read_pd_data.py\r\n"
     ]
    }
   ],
   "source": [
    "ls"
   ]
  },
  {
   "cell_type": "code",
   "execution_count": 4,
   "id": "16228ef7",
   "metadata": {},
   "outputs": [
    {
     "name": "stdout",
     "output_type": "stream",
     "text": [
      "Automatically created module for IPython interactive environment\n"
     ]
    }
   ],
   "source": [
    "from read_pd_data import readMatData\n",
    "import matplotlib.pyplot as plt\n",
    "import mne\n",
    "import numpy as np\n",
    "from mne.datasets import sample\n",
    "import pandas as pd\n",
    "from mne_features.univariate import compute_spect_slope\n",
    "from mne_features.utils import power_spectrum\n",
    "from os import walk\n",
    "from scipy.io import loadmat\n",
    "from scipy import signal\n",
    "\n",
    "import re\n",
    "\n",
    "print(__doc__)"
   ]
  },
  {
   "cell_type": "code",
   "execution_count": 5,
   "id": "6cfb4191",
   "metadata": {
    "scrolled": true
   },
   "outputs": [
    {
     "name": "stdout",
     "output_type": "stream",
     "text": [
      "/Users/dmytro\n"
     ]
    }
   ],
   "source": [
    "cd"
   ]
  },
  {
   "cell_type": "code",
   "execution_count": 6,
   "id": "444e97d9",
   "metadata": {},
   "outputs": [
    {
     "name": "stdout",
     "output_type": "stream",
     "text": [
      "/Users/dmytro/Documents/Projects/PROJECT_main/bsc-thesis-vdu\n"
     ]
    }
   ],
   "source": [
    "cd Documents/Projects/PROJECT_main/bsc-thesis-vdu/"
   ]
  },
  {
   "cell_type": "markdown",
   "id": "73d6aacf",
   "metadata": {},
   "source": [
    "### 1.1 Testing Extract Slope Features"
   ]
  },
  {
   "cell_type": "code",
   "execution_count": 7,
   "id": "21706f4d",
   "metadata": {},
   "outputs": [
    {
     "name": "stdout",
     "output_type": "stream",
     "text": [
      "Reading files started..\n",
      "(1, 129)\n",
      "The estimated slope is a = -3.66 and the estimated intercept is b = 7.801e-01\n"
     ]
    }
   ],
   "source": [
    "sign, t, y = readMatData('ctrl', 1)\n",
    "\n",
    "data = y[35,].reshape(1, -1)\n",
    "sfreq = 512.0\n",
    "\n",
    "psd, freqs = power_spectrum(sfreq, data)\n",
    "print(psd.shape)\n",
    "mask = np.logical_and(0 <= freqs, freqs <= 50)\n",
    "psd, freqs = psd[0, mask], freqs[mask]\n",
    "\n",
    "intercept, slope, _, _ = compute_spect_slope(sfreq, data, fmin=38., fmax=42.)\n",
    "print('The estimated slope is a = %1.2f and the estimated intercept is '\n",
    "      'b = %1.3e' % (slope, intercept))"
   ]
  },
  {
   "cell_type": "code",
   "execution_count": 8,
   "id": "52b1a748",
   "metadata": {},
   "outputs": [
    {
     "data": {
      "text/plain": [
       "((79824,), (116, 79824), (79824, 116))"
      ]
     },
     "execution_count": 8,
     "metadata": {},
     "output_type": "execute_result"
    }
   ],
   "source": [
    "t.shape, y.shape, sign.shape"
   ]
  },
  {
   "cell_type": "code",
   "execution_count": 9,
   "id": "cfc42c8e",
   "metadata": {
    "scrolled": true
   },
   "outputs": [
    {
     "data": {
      "image/png": "[encoded data removed]",
      "text/plain": [
       "<Figure size 640x480 with 1 Axes>"
      ]
     },
     "metadata": {},
     "output_type": "display_data"
    }
   ],
   "source": [
    "plt.plot(freqs, psd);"
   ]
  },
  {
   "cell_type": "code",
   "execution_count": 10,
   "id": "9ece422a",
   "metadata": {},
   "outputs": [
    {
     "data": {
      "text/plain": [
       "'/Users/dmytro/Documents/Projects/PROJECT_main/bsc-thesis-vdu'"
      ]
     },
     "execution_count": 10,
     "metadata": {},
     "output_type": "execute_result"
    }
   ],
   "source": [
    "pwd"
   ]
  },
  {
   "cell_type": "markdown",
   "id": "acad0157",
   "metadata": {},
   "source": [
    "### 1.2 Create slope features for each subject"
   ]
  },
  {
   "cell_type": "code",
   "execution_count": 11,
   "id": "50dc1f38",
   "metadata": {},
   "outputs": [],
   "source": [
    "#  Function for creating Slope features for each patient   #\n",
    "#  5 freq. bands --> 5 * 116 channels --> 580 features     #\n",
    "# _______________________________________________________ #\n",
    "\n",
    "def createFeatures(subjectType, subjectNum, ctrl_list, pd_list):\n",
    "    if subjectType == 'pd':\n",
    "        matlabfile = \"data/PD_broad/\" + pd_list[subjectNum] \n",
    "    elif subjectType == 'ctrl':\n",
    "        matlabfile = \"data/_CTRL_PD_broad/\" + ctrl_list[subjectNum]\n",
    "\n",
    "    loadedfile = loadmat(matlabfile)\n",
    "    \n",
    "    dat = loadedfile['dati_bf']\n",
    "    t = dat['time'].flatten()[0].flatten()\n",
    "    y = dat['trial_norm'].flatten()[0].flatten() # [0]\n",
    "    \n",
    "    all_timepoints = [t[i] for i in range(len(t))]\n",
    "    final_t = np.hstack(all_timepoints).reshape(-1)\n",
    "    all_signals = [y[i] for i in range(len(y))]\n",
    "    final_y = np.hstack(all_signals)\n",
    "        \n",
    "    sign = pd.DataFrame(data=final_y.T, index=final_t)\n",
    "    print('Signal is of shape:', sign.shape)\n",
    "    \n",
    "    fs = 512.0\n",
    "    slopes = dict()\n",
    "\n",
    "    for i in range(0, 116):\n",
    "        data = sign.iloc[:, i].values.reshape(1, -1)\n",
    "        # define 5 freq bands of interest\n",
    "        slope_bands = {'Delta': (0.5, 4),\n",
    "                     'Theta': (4, 8),\n",
    "                     'Alpha': (8, 12),\n",
    "                     'Beta': (12, 30),\n",
    "                     'Gamma': (30, 100)}\n",
    "\n",
    "        for band in slope_bands:  \n",
    "            f_min, f_max = slope_bands[band][0], slope_bands[band][1]\n",
    "            _, slope, _, _ = compute_spect_slope(fs, data, fmin=f_min, fmax=f_max)\n",
    "            slopes['Slope_{}_channel{}'.format(band, i+1)] = slope\n",
    "\n",
    "    \n",
    "    return pd.DataFrame(slopes.values(), slopes.keys()).T"
   ]
  },
  {
   "cell_type": "code",
   "execution_count": 12,
   "id": "74e6230f",
   "metadata": {},
   "outputs": [],
   "source": [
    "def list_of_path_files(dir_path):\n",
    "    res = []\n",
    "    for (dir_path, dir_names, file_names) in walk(dir_path):\n",
    "        res.extend(file_names)\n",
    "        # don't look inside any subdirectory\n",
    "        break\n",
    "    #print(res)\n",
    "    return res\n",
    "\n",
    "# extract names of files\n",
    "pd_list = list_of_path_files('data/PD_broad')\n",
    "ctrl_list = list_of_path_files('data/_CTRL_PD_broad')"
   ]
  },
  {
   "cell_type": "code",
   "execution_count": 13,
   "id": "11371e3e",
   "metadata": {},
   "outputs": [
    {
     "data": {
      "text/plain": [
       "['BRNNNA56_01_512_broad.mat', 'CFRGNN51_01_512_broad.mat']"
      ]
     },
     "execution_count": 13,
     "metadata": {},
     "output_type": "execute_result"
    }
   ],
   "source": [
    "pd_list[:2]"
   ]
  },
  {
   "cell_type": "code",
   "execution_count": 14,
   "id": "7291d3be",
   "metadata": {},
   "outputs": [
    {
     "name": "stdout",
     "output_type": "stream",
     "text": [
      "Signal is of shape: (78245, 116)\n",
      "Signal is of shape: (79824, 116)\n",
      "Signal is of shape: (72654, 116)\n",
      "Signal is of shape: (69703, 116)\n",
      "Signal is of shape: (72430, 116)\n",
      "Signal is of shape: (82072, 116)\n",
      "Signal is of shape: (66002, 116)\n",
      "Signal is of shape: (73091, 116)\n",
      "Signal is of shape: (52921, 116)\n",
      "Signal is of shape: (65184, 116)\n",
      "Signal is of shape: (80445, 116)\n",
      "Signal is of shape: (56439, 116)\n",
      "Signal is of shape: (75834, 116)\n",
      "Signal is of shape: (70552, 116)\n",
      "Signal is of shape: (79492, 116)\n",
      "Signal is of shape: (73759, 116)\n",
      "Signal is of shape: (55799, 116)\n",
      "Signal is of shape: (77079, 116)\n",
      "Signal is of shape: (76858, 116)\n",
      "Signal is of shape: (53559, 116)\n",
      "Signal is of shape: (73369, 116)\n",
      "Signal is of shape: (81971, 116)\n",
      "Signal is of shape: (76655, 116)\n",
      "Signal is of shape: (71038, 116)\n",
      "Signal is of shape: (73569, 116)\n",
      "Signal is of shape: (44738, 116)\n",
      "Signal is of shape: (76281, 116)\n",
      "Signal is of shape: (79676, 116)\n",
      "Signal is of shape: (77897, 116)\n",
      "Signal is of shape: (67103, 116)\n",
      "Signal is of shape: (84890, 116)\n",
      "Signal is of shape: (73049, 116)\n",
      "Signal is of shape: (98695, 116)\n",
      "Signal is of shape: (71586, 116)\n",
      "Signal is of shape: (65728, 116)\n",
      "Signal is of shape: (42208, 116)\n",
      "Signal is of shape: (78561, 116)\n",
      "Signal is of shape: (85033, 116)\n",
      "Signal is of shape: (75204, 116)\n",
      "Signal is of shape: (48294, 116)\n"
     ]
    }
   ],
   "source": [
    "# Fill lists with features for each CTRL/PD patient\n",
    "\n",
    "subj_ctrl_data = []  # Create an empty list to store the results\n",
    "\n",
    "for i in range(20):\n",
    "    subj_ctrl_data.append(createFeatures('ctrl', i, ctrl_list, pd_list))\n",
    "    \n",
    "subj_pd_data = []  # Create an empty list to store the results\n",
    "\n",
    "for i in range(20):\n",
    "    subj_pd_data.append(createFeatures('pd', i, ctrl_list, pd_list))"
   ]
  },
  {
   "cell_type": "markdown",
   "id": "22c511b8",
   "metadata": {},
   "source": [
    "### 1.3 Merge all data into one dataframe and save it"
   ]
  },
  {
   "cell_type": "code",
   "execution_count": 15,
   "id": "ae50c98e",
   "metadata": {},
   "outputs": [
    {
     "data": {
      "text/html": [
       "<div>\n",
       "<style scoped>\n",
       "    .dataframe tbody tr th:only-of-type {\n",
       "        vertical-align: middle;\n",
       "    }\n",
       "\n",
       "    .dataframe tbody tr th {\n",
       "        vertical-align: top;\n",
       "    }\n",
       "\n",
       "    .dataframe thead th {\n",
       "        text-align: right;\n",
       "    }\n",
       "</style>\n",
       "<table border=\"1\" class=\"dataframe\">\n",
       "  <thead>\n",
       "    <tr style=\"text-align: right;\">\n",
       "      <th></th>\n",
       "      <th>Slope_Delta_channel1</th>\n",
       "      <th>Slope_Theta_channel1</th>\n",
       "      <th>Slope_Alpha_channel1</th>\n",
       "      <th>Slope_Beta_channel1</th>\n",
       "      <th>Slope_Gamma_channel1</th>\n",
       "      <th>Slope_Delta_channel2</th>\n",
       "      <th>Slope_Theta_channel2</th>\n",
       "      <th>Slope_Alpha_channel2</th>\n",
       "      <th>Slope_Beta_channel2</th>\n",
       "      <th>Slope_Gamma_channel2</th>\n",
       "      <th>...</th>\n",
       "      <th>Slope_Theta_channel115</th>\n",
       "      <th>Slope_Alpha_channel115</th>\n",
       "      <th>Slope_Beta_channel115</th>\n",
       "      <th>Slope_Gamma_channel115</th>\n",
       "      <th>Slope_Delta_channel116</th>\n",
       "      <th>Slope_Theta_channel116</th>\n",
       "      <th>Slope_Alpha_channel116</th>\n",
       "      <th>Slope_Beta_channel116</th>\n",
       "      <th>Slope_Gamma_channel116</th>\n",
       "      <th>target</th>\n",
       "    </tr>\n",
       "  </thead>\n",
       "  <tbody>\n",
       "    <tr>\n",
       "      <th>0</th>\n",
       "      <td>-0.306048</td>\n",
       "      <td>-0.076067</td>\n",
       "      <td>-1.972159</td>\n",
       "      <td>-1.396093</td>\n",
       "      <td>-9.893321</td>\n",
       "      <td>-0.208654</td>\n",
       "      <td>0.145119</td>\n",
       "      <td>-2.074306</td>\n",
       "      <td>-1.644612</td>\n",
       "      <td>-9.740320</td>\n",
       "      <td>...</td>\n",
       "      <td>1.421544</td>\n",
       "      <td>-2.031883</td>\n",
       "      <td>-1.782430</td>\n",
       "      <td>-9.952042</td>\n",
       "      <td>-0.137946</td>\n",
       "      <td>1.462743</td>\n",
       "      <td>-2.055009</td>\n",
       "      <td>-1.787130</td>\n",
       "      <td>-10.003358</td>\n",
       "      <td>0</td>\n",
       "    </tr>\n",
       "    <tr>\n",
       "      <th>0</th>\n",
       "      <td>-0.723168</td>\n",
       "      <td>0.468160</td>\n",
       "      <td>-1.104337</td>\n",
       "      <td>-1.360878</td>\n",
       "      <td>-9.889068</td>\n",
       "      <td>-0.555383</td>\n",
       "      <td>0.221350</td>\n",
       "      <td>-0.707420</td>\n",
       "      <td>-1.334701</td>\n",
       "      <td>-10.188527</td>\n",
       "      <td>...</td>\n",
       "      <td>1.237098</td>\n",
       "      <td>-0.321056</td>\n",
       "      <td>-1.573043</td>\n",
       "      <td>-10.225805</td>\n",
       "      <td>-0.039740</td>\n",
       "      <td>1.397402</td>\n",
       "      <td>-0.415047</td>\n",
       "      <td>-1.639541</td>\n",
       "      <td>-10.125254</td>\n",
       "      <td>0</td>\n",
       "    </tr>\n",
       "    <tr>\n",
       "      <th>0</th>\n",
       "      <td>-0.657620</td>\n",
       "      <td>0.282428</td>\n",
       "      <td>-1.511900</td>\n",
       "      <td>-0.661253</td>\n",
       "      <td>-9.859703</td>\n",
       "      <td>-0.891532</td>\n",
       "      <td>0.576166</td>\n",
       "      <td>-1.867962</td>\n",
       "      <td>-1.253581</td>\n",
       "      <td>-9.645000</td>\n",
       "      <td>...</td>\n",
       "      <td>1.343854</td>\n",
       "      <td>-2.030068</td>\n",
       "      <td>-1.847695</td>\n",
       "      <td>-9.141395</td>\n",
       "      <td>-0.493025</td>\n",
       "      <td>1.288020</td>\n",
       "      <td>-1.950359</td>\n",
       "      <td>-1.797956</td>\n",
       "      <td>-9.183274</td>\n",
       "      <td>0</td>\n",
       "    </tr>\n",
       "    <tr>\n",
       "      <th>0</th>\n",
       "      <td>-0.851572</td>\n",
       "      <td>-1.360808</td>\n",
       "      <td>0.023854</td>\n",
       "      <td>-0.572560</td>\n",
       "      <td>-9.880788</td>\n",
       "      <td>-0.919218</td>\n",
       "      <td>-1.122783</td>\n",
       "      <td>0.605264</td>\n",
       "      <td>-0.981192</td>\n",
       "      <td>-9.455431</td>\n",
       "      <td>...</td>\n",
       "      <td>-0.461632</td>\n",
       "      <td>0.985291</td>\n",
       "      <td>-1.803151</td>\n",
       "      <td>-9.038920</td>\n",
       "      <td>-0.745013</td>\n",
       "      <td>-0.564793</td>\n",
       "      <td>1.002989</td>\n",
       "      <td>-1.633470</td>\n",
       "      <td>-9.003338</td>\n",
       "      <td>0</td>\n",
       "    </tr>\n",
       "    <tr>\n",
       "      <th>0</th>\n",
       "      <td>-0.727072</td>\n",
       "      <td>0.564501</td>\n",
       "      <td>-0.949918</td>\n",
       "      <td>-1.210446</td>\n",
       "      <td>-9.980929</td>\n",
       "      <td>-0.693245</td>\n",
       "      <td>0.662302</td>\n",
       "      <td>-1.103339</td>\n",
       "      <td>-1.814917</td>\n",
       "      <td>-9.796032</td>\n",
       "      <td>...</td>\n",
       "      <td>1.944810</td>\n",
       "      <td>-1.359927</td>\n",
       "      <td>-2.414122</td>\n",
       "      <td>-9.124230</td>\n",
       "      <td>-0.505233</td>\n",
       "      <td>1.869712</td>\n",
       "      <td>-1.389887</td>\n",
       "      <td>-2.314490</td>\n",
       "      <td>-9.187275</td>\n",
       "      <td>0</td>\n",
       "    </tr>\n",
       "  </tbody>\n",
       "</table>\n",
       "<p>5 rows × 581 columns</p>\n",
       "</div>"
      ],
      "text/plain": [
       "   Slope_Delta_channel1  Slope_Theta_channel1  Slope_Alpha_channel1  \\\n",
       "0             -0.306048             -0.076067             -1.972159   \n",
       "0             -0.723168              0.468160             -1.104337   \n",
       "0             -0.657620              0.282428             -1.511900   \n",
       "0             -0.851572             -1.360808              0.023854   \n",
       "0             -0.727072              0.564501             -0.949918   \n",
       "\n",
       "   Slope_Beta_channel1  Slope_Gamma_channel1  Slope_Delta_channel2  \\\n",
       "0            -1.396093             -9.893321             -0.208654   \n",
       "0            -1.360878             -9.889068             -0.555383   \n",
       "0            -0.661253             -9.859703             -0.891532   \n",
       "0            -0.572560             -9.880788             -0.919218   \n",
       "0            -1.210446             -9.980929             -0.693245   \n",
       "\n",
       "   Slope_Theta_channel2  Slope_Alpha_channel2  Slope_Beta_channel2  \\\n",
       "0              0.145119             -2.074306            -1.644612   \n",
       "0              0.221350             -0.707420            -1.334701   \n",
       "0              0.576166             -1.867962            -1.253581   \n",
       "0             -1.122783              0.605264            -0.981192   \n",
       "0              0.662302             -1.103339            -1.814917   \n",
       "\n",
       "   Slope_Gamma_channel2  ...  Slope_Theta_channel115  Slope_Alpha_channel115  \\\n",
       "0             -9.740320  ...                1.421544               -2.031883   \n",
       "0            -10.188527  ...                1.237098               -0.321056   \n",
       "0             -9.645000  ...                1.343854               -2.030068   \n",
       "0             -9.455431  ...               -0.461632                0.985291   \n",
       "0             -9.796032  ...                1.944810               -1.359927   \n",
       "\n",
       "   Slope_Beta_channel115  Slope_Gamma_channel115  Slope_Delta_channel116  \\\n",
       "0              -1.782430               -9.952042               -0.137946   \n",
       "0              -1.573043              -10.225805               -0.039740   \n",
       "0              -1.847695               -9.141395               -0.493025   \n",
       "0              -1.803151               -9.038920               -0.745013   \n",
       "0              -2.414122               -9.124230               -0.505233   \n",
       "\n",
       "   Slope_Theta_channel116  Slope_Alpha_channel116  Slope_Beta_channel116  \\\n",
       "0                1.462743               -2.055009              -1.787130   \n",
       "0                1.397402               -0.415047              -1.639541   \n",
       "0                1.288020               -1.950359              -1.797956   \n",
       "0               -0.564793                1.002989              -1.633470   \n",
       "0                1.869712               -1.389887              -2.314490   \n",
       "\n",
       "   Slope_Gamma_channel116  target  \n",
       "0              -10.003358       0  \n",
       "0              -10.125254       0  \n",
       "0               -9.183274       0  \n",
       "0               -9.003338       0  \n",
       "0               -9.187275       0  \n",
       "\n",
       "[5 rows x 581 columns]"
      ]
     },
     "execution_count": 15,
     "metadata": {},
     "output_type": "execute_result"
    }
   ],
   "source": [
    "final_pd_df = pd.concat(subj_pd_data, axis=0) \n",
    "final_pd_df['target'] = 1\n",
    "\n",
    "final_ctrl_df = pd.concat(subj_ctrl_data, axis=0) \n",
    "final_ctrl_df['target'] = 0\n",
    "\n",
    "final_df = pd.concat([final_ctrl_df, final_pd_df], axis=0)\n",
    "final_df.head()"
   ]
  },
  {
   "cell_type": "code",
   "execution_count": 16,
   "id": "cadedd25",
   "metadata": {},
   "outputs": [],
   "source": [
    "df_slopes = final_df.reset_index(drop=True) "
   ]
  },
  {
   "cell_type": "code",
   "execution_count": 17,
   "id": "af08de55",
   "metadata": {},
   "outputs": [
    {
     "data": {
      "text/html": [
       "<div>\n",
       "<style scoped>\n",
       "    .dataframe tbody tr th:only-of-type {\n",
       "        vertical-align: middle;\n",
       "    }\n",
       "\n",
       "    .dataframe tbody tr th {\n",
       "        vertical-align: top;\n",
       "    }\n",
       "\n",
       "    .dataframe thead th {\n",
       "        text-align: right;\n",
       "    }\n",
       "</style>\n",
       "<table border=\"1\" class=\"dataframe\">\n",
       "  <thead>\n",
       "    <tr style=\"text-align: right;\">\n",
       "      <th></th>\n",
       "      <th>Slope_Delta_channel1</th>\n",
       "      <th>Slope_Theta_channel1</th>\n",
       "      <th>Slope_Alpha_channel1</th>\n",
       "      <th>Slope_Beta_channel1</th>\n",
       "      <th>Slope_Gamma_channel1</th>\n",
       "      <th>Slope_Delta_channel2</th>\n",
       "      <th>Slope_Theta_channel2</th>\n",
       "      <th>Slope_Alpha_channel2</th>\n",
       "      <th>Slope_Beta_channel2</th>\n",
       "      <th>Slope_Gamma_channel2</th>\n",
       "      <th>...</th>\n",
       "      <th>Slope_Theta_channel115</th>\n",
       "      <th>Slope_Alpha_channel115</th>\n",
       "      <th>Slope_Beta_channel115</th>\n",
       "      <th>Slope_Gamma_channel115</th>\n",
       "      <th>Slope_Delta_channel116</th>\n",
       "      <th>Slope_Theta_channel116</th>\n",
       "      <th>Slope_Alpha_channel116</th>\n",
       "      <th>Slope_Beta_channel116</th>\n",
       "      <th>Slope_Gamma_channel116</th>\n",
       "      <th>target</th>\n",
       "    </tr>\n",
       "  </thead>\n",
       "  <tbody>\n",
       "    <tr>\n",
       "      <th>0</th>\n",
       "      <td>-0.306048</td>\n",
       "      <td>-0.076067</td>\n",
       "      <td>-1.972159</td>\n",
       "      <td>-1.396093</td>\n",
       "      <td>-9.893321</td>\n",
       "      <td>-0.208654</td>\n",
       "      <td>0.145119</td>\n",
       "      <td>-2.074306</td>\n",
       "      <td>-1.644612</td>\n",
       "      <td>-9.740320</td>\n",
       "      <td>...</td>\n",
       "      <td>1.421544</td>\n",
       "      <td>-2.031883</td>\n",
       "      <td>-1.782430</td>\n",
       "      <td>-9.952042</td>\n",
       "      <td>-0.137946</td>\n",
       "      <td>1.462743</td>\n",
       "      <td>-2.055009</td>\n",
       "      <td>-1.787130</td>\n",
       "      <td>-10.003358</td>\n",
       "      <td>0</td>\n",
       "    </tr>\n",
       "    <tr>\n",
       "      <th>1</th>\n",
       "      <td>-0.723168</td>\n",
       "      <td>0.468160</td>\n",
       "      <td>-1.104337</td>\n",
       "      <td>-1.360878</td>\n",
       "      <td>-9.889068</td>\n",
       "      <td>-0.555383</td>\n",
       "      <td>0.221350</td>\n",
       "      <td>-0.707420</td>\n",
       "      <td>-1.334701</td>\n",
       "      <td>-10.188527</td>\n",
       "      <td>...</td>\n",
       "      <td>1.237098</td>\n",
       "      <td>-0.321056</td>\n",
       "      <td>-1.573043</td>\n",
       "      <td>-10.225805</td>\n",
       "      <td>-0.039740</td>\n",
       "      <td>1.397402</td>\n",
       "      <td>-0.415047</td>\n",
       "      <td>-1.639541</td>\n",
       "      <td>-10.125254</td>\n",
       "      <td>0</td>\n",
       "    </tr>\n",
       "    <tr>\n",
       "      <th>2</th>\n",
       "      <td>-0.657620</td>\n",
       "      <td>0.282428</td>\n",
       "      <td>-1.511900</td>\n",
       "      <td>-0.661253</td>\n",
       "      <td>-9.859703</td>\n",
       "      <td>-0.891532</td>\n",
       "      <td>0.576166</td>\n",
       "      <td>-1.867962</td>\n",
       "      <td>-1.253581</td>\n",
       "      <td>-9.645000</td>\n",
       "      <td>...</td>\n",
       "      <td>1.343854</td>\n",
       "      <td>-2.030068</td>\n",
       "      <td>-1.847695</td>\n",
       "      <td>-9.141395</td>\n",
       "      <td>-0.493025</td>\n",
       "      <td>1.288020</td>\n",
       "      <td>-1.950359</td>\n",
       "      <td>-1.797956</td>\n",
       "      <td>-9.183274</td>\n",
       "      <td>0</td>\n",
       "    </tr>\n",
       "    <tr>\n",
       "      <th>3</th>\n",
       "      <td>-0.851572</td>\n",
       "      <td>-1.360808</td>\n",
       "      <td>0.023854</td>\n",
       "      <td>-0.572560</td>\n",
       "      <td>-9.880788</td>\n",
       "      <td>-0.919218</td>\n",
       "      <td>-1.122783</td>\n",
       "      <td>0.605264</td>\n",
       "      <td>-0.981192</td>\n",
       "      <td>-9.455431</td>\n",
       "      <td>...</td>\n",
       "      <td>-0.461632</td>\n",
       "      <td>0.985291</td>\n",
       "      <td>-1.803151</td>\n",
       "      <td>-9.038920</td>\n",
       "      <td>-0.745013</td>\n",
       "      <td>-0.564793</td>\n",
       "      <td>1.002989</td>\n",
       "      <td>-1.633470</td>\n",
       "      <td>-9.003338</td>\n",
       "      <td>0</td>\n",
       "    </tr>\n",
       "    <tr>\n",
       "      <th>4</th>\n",
       "      <td>-0.727072</td>\n",
       "      <td>0.564501</td>\n",
       "      <td>-0.949918</td>\n",
       "      <td>-1.210446</td>\n",
       "      <td>-9.980929</td>\n",
       "      <td>-0.693245</td>\n",
       "      <td>0.662302</td>\n",
       "      <td>-1.103339</td>\n",
       "      <td>-1.814917</td>\n",
       "      <td>-9.796032</td>\n",
       "      <td>...</td>\n",
       "      <td>1.944810</td>\n",
       "      <td>-1.359927</td>\n",
       "      <td>-2.414122</td>\n",
       "      <td>-9.124230</td>\n",
       "      <td>-0.505233</td>\n",
       "      <td>1.869712</td>\n",
       "      <td>-1.389887</td>\n",
       "      <td>-2.314490</td>\n",
       "      <td>-9.187275</td>\n",
       "      <td>0</td>\n",
       "    </tr>\n",
       "  </tbody>\n",
       "</table>\n",
       "<p>5 rows × 581 columns</p>\n",
       "</div>"
      ],
      "text/plain": [
       "   Slope_Delta_channel1  Slope_Theta_channel1  Slope_Alpha_channel1  \\\n",
       "0             -0.306048             -0.076067             -1.972159   \n",
       "1             -0.723168              0.468160             -1.104337   \n",
       "2             -0.657620              0.282428             -1.511900   \n",
       "3             -0.851572             -1.360808              0.023854   \n",
       "4             -0.727072              0.564501             -0.949918   \n",
       "\n",
       "   Slope_Beta_channel1  Slope_Gamma_channel1  Slope_Delta_channel2  \\\n",
       "0            -1.396093             -9.893321             -0.208654   \n",
       "1            -1.360878             -9.889068             -0.555383   \n",
       "2            -0.661253             -9.859703             -0.891532   \n",
       "3            -0.572560             -9.880788             -0.919218   \n",
       "4            -1.210446             -9.980929             -0.693245   \n",
       "\n",
       "   Slope_Theta_channel2  Slope_Alpha_channel2  Slope_Beta_channel2  \\\n",
       "0              0.145119             -2.074306            -1.644612   \n",
       "1              0.221350             -0.707420            -1.334701   \n",
       "2              0.576166             -1.867962            -1.253581   \n",
       "3             -1.122783              0.605264            -0.981192   \n",
       "4              0.662302             -1.103339            -1.814917   \n",
       "\n",
       "   Slope_Gamma_channel2  ...  Slope_Theta_channel115  Slope_Alpha_channel115  \\\n",
       "0             -9.740320  ...                1.421544               -2.031883   \n",
       "1            -10.188527  ...                1.237098               -0.321056   \n",
       "2             -9.645000  ...                1.343854               -2.030068   \n",
       "3             -9.455431  ...               -0.461632                0.985291   \n",
       "4             -9.796032  ...                1.944810               -1.359927   \n",
       "\n",
       "   Slope_Beta_channel115  Slope_Gamma_channel115  Slope_Delta_channel116  \\\n",
       "0              -1.782430               -9.952042               -0.137946   \n",
       "1              -1.573043              -10.225805               -0.039740   \n",
       "2              -1.847695               -9.141395               -0.493025   \n",
       "3              -1.803151               -9.038920               -0.745013   \n",
       "4              -2.414122               -9.124230               -0.505233   \n",
       "\n",
       "   Slope_Theta_channel116  Slope_Alpha_channel116  Slope_Beta_channel116  \\\n",
       "0                1.462743               -2.055009              -1.787130   \n",
       "1                1.397402               -0.415047              -1.639541   \n",
       "2                1.288020               -1.950359              -1.797956   \n",
       "3               -0.564793                1.002989              -1.633470   \n",
       "4                1.869712               -1.389887              -2.314490   \n",
       "\n",
       "   Slope_Gamma_channel116  target  \n",
       "0              -10.003358       0  \n",
       "1              -10.125254       0  \n",
       "2               -9.183274       0  \n",
       "3               -9.003338       0  \n",
       "4               -9.187275       0  \n",
       "\n",
       "[5 rows x 581 columns]"
      ]
     },
     "execution_count": 17,
     "metadata": {},
     "output_type": "execute_result"
    }
   ],
   "source": [
    "df_slopes.head()"
   ]
  },
  {
   "cell_type": "code",
   "execution_count": 18,
   "id": "0343da6b",
   "metadata": {},
   "outputs": [
    {
     "data": {
      "text/plain": [
       "(40, 581)"
      ]
     },
     "execution_count": 18,
     "metadata": {},
     "output_type": "execute_result"
    }
   ],
   "source": [
    "df_slopes.shape"
   ]
  },
  {
   "cell_type": "code",
   "execution_count": 19,
   "id": "a4f3c706",
   "metadata": {},
   "outputs": [],
   "source": [
    "df_slopes.to_csv('data/slopes_580features.csv', index=False)"
   ]
  },
  {
   "cell_type": "markdown",
   "id": "87949d84",
   "metadata": {},
   "source": [
    "### 3.1 Testing Extract Power Spectrum features"
   ]
  },
  {
   "cell_type": "code",
   "execution_count": 20,
   "id": "c9075412",
   "metadata": {},
   "outputs": [],
   "source": [
    "def makePsdPlot(sign):\n",
    "    plt.figure(figsize=(15, 3))\n",
    "    \n",
    "    fs = 512.0\n",
    "    win = 10 * fs\n",
    "    \n",
    "    for i in range(0, 2):\n",
    "        plt.subplot(1, 2, i+1)\n",
    "        \n",
    "        data = sign.iloc[:, i]\n",
    "        freqs, psd = signal.welch(data, fs=512.0, nperseg=win)\n",
    "        \n",
    "        intervals = [0.5, 4, 8, 12, 30, 100]\n",
    "\n",
    "        # Add vertical lines for each interval\n",
    "        for interval in intervals:\n",
    "            plt.axvline(x=interval, color='r', linestyle='--', label=f'Interval {interval}')\n",
    "        plt.plot(freqs, psd)\n",
    "        plt.xlim([0, 48])\n",
    "        plt.xlabel('Frequency (Hz)')\n",
    "        if i == 0:\n",
    "            plt.ylabel('Power Spectral Density (dB/Hz)')\n",
    "        plt.title(f'Channel {i+1}')\n",
    "    \n",
    "    plt.show()"
   ]
  },
  {
   "cell_type": "code",
   "execution_count": 21,
   "id": "c2309b4f",
   "metadata": {},
   "outputs": [
    {
     "data": {
      "image/png": "[encoded data removed]",
      "text/plain": [
       "<Figure size 1500x300 with 2 Axes>"
      ]
     },
     "metadata": {},
     "output_type": "display_data"
    }
   ],
   "source": [
    "makePsdPlot(sign)"
   ]
  },
  {
   "cell_type": "code",
   "execution_count": 31,
   "id": "0a229482",
   "metadata": {},
   "outputs": [],
   "source": [
    "def createFeaturesPSD(subjectType, subjectNum, ctrl_list, pd_list):\n",
    "    pattern = r\"^(.*?_512)\"\n",
    "    \n",
    "    if subjectType == 'pd':\n",
    "        matlabfile = \"data/PD_broad/\" + pd_list[subjectNum] \n",
    "        PATIENT_ID = re.match(pattern, pd_list[subjectNum]).group(1)\n",
    "    elif subjectType == 'ctrl':\n",
    "        matlabfile = \"data/_CTRL_PD_broad/\" + ctrl_list[subjectNum]\n",
    "        PATIENT_ID = re.match(pattern, pd_list[subjectNum]).group(1)\n",
    "\n",
    "    loadedfile = loadmat(matlabfile)\n",
    "    \n",
    "    dat = loadedfile['dati_bf']\n",
    "    t = dat['time'].flatten()[0].flatten()\n",
    "    y = dat['trial_norm'].flatten()[0].flatten() # [0]\n",
    "    \n",
    "    #print('Timepoints are divided into #timepoints:', len(t))\n",
    "    all_timepoints = [t[i] for i in range(len(t))]\n",
    "    final_t = np.hstack(all_timepoints).reshape(-1)\n",
    "    \n",
    "    #print('Signal is divided into #signals:', len(y))\n",
    "    all_signals = [y[i] for i in range(len(y))]\n",
    "    final_y = np.hstack(all_signals)\n",
    "    print(final_y[0, 0])\n",
    "        \n",
    "    sign = pd.DataFrame(data=final_y.T, index=final_t)\n",
    "    print('Signal is of shape:', sign.shape)\n",
    "    \n",
    "    fs = 512.0\n",
    "    win = 10 * fs\n",
    "\n",
    "    meg_power_fft = dict()\n",
    "\n",
    "    for i in range(0, 116):\n",
    "        data = sign.iloc[:, i]\n",
    "\n",
    "        freqs, psd = signal.welch(data, fs, nperseg=win)\n",
    "\n",
    "        fft_vals = np.absolute(np.fft.rfft(data))\n",
    "\n",
    "        power_vals = np.square(fft_vals)\n",
    "\n",
    "        fft_freq = np.fft.rfftfreq(len(data), 1.0/fs)\n",
    "\n",
    "        meg_bands = {'Delta': (0.5, 4),\n",
    "                     'Theta': (4, 8),\n",
    "                     'Alpha': (8, 12),\n",
    "                     'Beta': (12, 30),\n",
    "                     'Gamma': (30, 48)}\n",
    "\n",
    "        meg_band_fft = dict()\n",
    "\n",
    "        for band in meg_bands:  \n",
    "            freq_ix = np.where((fft_freq >= meg_bands[band][0]) & \n",
    "                               (fft_freq <= meg_bands[band][1]))[0]\n",
    "            meg_band_fft[band] = np.mean(fft_vals[freq_ix])\n",
    "\n",
    "        #meg_power_fft = dict()\n",
    "        for band in meg_bands:  \n",
    "            freq_ix = np.where((fft_freq >= meg_bands[band][0]) & \n",
    "                               (fft_freq <= meg_bands[band][1]))[0]\n",
    "            meg_power_fft['{}_channel{}'.format(band, i)] = np.mean(power_vals[freq_ix])\n",
    "            \n",
    "    final_df = pd.DataFrame(meg_power_fft.values(), meg_power_fft.keys()).T\n",
    "    #final_df['PATIENT_ID'] = PATIENT_ID\n",
    "    return final_df"
   ]
  },
  {
   "cell_type": "code",
   "execution_count": 32,
   "id": "656a0ab1",
   "metadata": {},
   "outputs": [
    {
     "name": "stdout",
     "output_type": "stream",
     "text": [
      "0.011199491727325015\n",
      "Signal is of shape: (73369, 116)\n",
      "-0.001640187528092151\n",
      "Signal is of shape: (81971, 116)\n",
      "0.012238277403858014\n",
      "Signal is of shape: (76655, 116)\n",
      "-0.014694018859542112\n",
      "Signal is of shape: (71038, 116)\n",
      "-0.014745808514186866\n",
      "Signal is of shape: (73569, 116)\n",
      "0.03532331462811481\n",
      "Signal is of shape: (44738, 116)\n",
      "0.01846803646548737\n",
      "Signal is of shape: (76281, 116)\n",
      "-0.012812252963512738\n",
      "Signal is of shape: (79676, 116)\n",
      "-0.03983137940189215\n",
      "Signal is of shape: (77897, 116)\n",
      "0.01191850653327774\n",
      "Signal is of shape: (67103, 116)\n",
      "0.04012456768818531\n",
      "Signal is of shape: (84890, 116)\n",
      "-0.07317745666628656\n",
      "Signal is of shape: (73049, 116)\n",
      "0.019357586748737343\n",
      "Signal is of shape: (98695, 116)\n",
      "-0.03827891817914811\n",
      "Signal is of shape: (71586, 116)\n",
      "0.008774728907377634\n",
      "Signal is of shape: (65728, 116)\n",
      "0.05687355653648385\n",
      "Signal is of shape: (42208, 116)\n",
      "-0.007985591600891514\n",
      "Signal is of shape: (78561, 116)\n",
      "-0.003635753972889059\n",
      "Signal is of shape: (85033, 116)\n",
      "0.00216536606318424\n",
      "Signal is of shape: (75204, 116)\n",
      "-0.011114850896334736\n",
      "Signal is of shape: (48294, 116)\n",
      "0.016653402653928336\n",
      "Signal is of shape: (78245, 116)\n",
      "-0.013315439590045663\n",
      "Signal is of shape: (79824, 116)\n",
      "0.008043427564950094\n",
      "Signal is of shape: (72654, 116)\n",
      "-0.012625695782278562\n",
      "Signal is of shape: (69703, 116)\n",
      "-0.00043416781141480905\n",
      "Signal is of shape: (72430, 116)\n",
      "0.00646210193024107\n",
      "Signal is of shape: (82072, 116)\n",
      "0.0035506330557753497\n",
      "Signal is of shape: (66002, 116)\n",
      "0.0618383897815053\n",
      "Signal is of shape: (73091, 116)\n",
      "0.001961161618299977\n",
      "Signal is of shape: (52921, 116)\n",
      "0.015198955399726712\n",
      "Signal is of shape: (65184, 116)\n",
      "0.008803235844974716\n",
      "Signal is of shape: (80445, 116)\n",
      "0.008841940949354529\n",
      "Signal is of shape: (56439, 116)\n",
      "0.047865248899286804\n",
      "Signal is of shape: (75834, 116)\n",
      "0.004723299306189592\n",
      "Signal is of shape: (70552, 116)\n",
      "-0.025472656094335577\n",
      "Signal is of shape: (79492, 116)\n",
      "-0.008921478451316276\n",
      "Signal is of shape: (73759, 116)\n",
      "-0.031557671029570855\n",
      "Signal is of shape: (55799, 116)\n",
      "-0.09532904442990209\n",
      "Signal is of shape: (77079, 116)\n",
      "0.05068250917941107\n",
      "Signal is of shape: (76858, 116)\n",
      "0.022311430588705973\n",
      "Signal is of shape: (53559, 116)\n"
     ]
    }
   ],
   "source": [
    "subj_pd_data = []  # Create an empty list to store the results\n",
    "\n",
    "for i in range(20):\n",
    "    subj_pd_data.append(createFeaturesPSD('pd', i, ctrl_list, pd_list))\n",
    "    \n",
    "subj_ctrl_data = []  # Create an empty list to store the results\n",
    "\n",
    "for i in range(20):\n",
    "    subj_ctrl_data.append(createFeaturesPSD('ctrl', i, ctrl_list, pd_list))"
   ]
  },
  {
   "cell_type": "code",
   "execution_count": 33,
   "id": "05b8f44f",
   "metadata": {},
   "outputs": [],
   "source": [
    "final_pd_df = pd.concat(subj_pd_data, axis=0) \n",
    "final_pd_df['target'] = 1\n",
    "\n",
    "final_ctrl_df = pd.concat(subj_ctrl_data, axis=0) \n",
    "final_ctrl_df['target'] = 0"
   ]
  },
  {
   "cell_type": "code",
   "execution_count": 34,
   "id": "c6fe6059",
   "metadata": {},
   "outputs": [],
   "source": [
    "final_df = pd.concat([final_ctrl_df, final_pd_df], axis=0)"
   ]
  },
  {
   "cell_type": "code",
   "execution_count": 35,
   "id": "a3ca85e3",
   "metadata": {},
   "outputs": [],
   "source": [
    "df_psd = final_df.reset_index(drop=True)"
   ]
  },
  {
   "cell_type": "code",
   "execution_count": 36,
   "id": "e5eda43d",
   "metadata": {},
   "outputs": [
    {
     "data": {
      "text/html": [
       "<div>\n",
       "<style scoped>\n",
       "    .dataframe tbody tr th:only-of-type {\n",
       "        vertical-align: middle;\n",
       "    }\n",
       "\n",
       "    .dataframe tbody tr th {\n",
       "        vertical-align: top;\n",
       "    }\n",
       "\n",
       "    .dataframe thead th {\n",
       "        text-align: right;\n",
       "    }\n",
       "</style>\n",
       "<table border=\"1\" class=\"dataframe\">\n",
       "  <thead>\n",
       "    <tr style=\"text-align: right;\">\n",
       "      <th></th>\n",
       "      <th>Delta_channel0</th>\n",
       "      <th>Theta_channel0</th>\n",
       "      <th>Alpha_channel0</th>\n",
       "      <th>Beta_channel0</th>\n",
       "      <th>Gamma_channel0</th>\n",
       "      <th>Delta_channel1</th>\n",
       "      <th>Theta_channel1</th>\n",
       "      <th>Alpha_channel1</th>\n",
       "      <th>Beta_channel1</th>\n",
       "      <th>Gamma_channel1</th>\n",
       "      <th>...</th>\n",
       "      <th>Theta_channel114</th>\n",
       "      <th>Alpha_channel114</th>\n",
       "      <th>Beta_channel114</th>\n",
       "      <th>Gamma_channel114</th>\n",
       "      <th>Delta_channel115</th>\n",
       "      <th>Theta_channel115</th>\n",
       "      <th>Alpha_channel115</th>\n",
       "      <th>Beta_channel115</th>\n",
       "      <th>Gamma_channel115</th>\n",
       "      <th>target</th>\n",
       "    </tr>\n",
       "  </thead>\n",
       "  <tbody>\n",
       "    <tr>\n",
       "      <th>0</th>\n",
       "      <td>2308.444218</td>\n",
       "      <td>1219.314049</td>\n",
       "      <td>1121.515325</td>\n",
       "      <td>295.488834</td>\n",
       "      <td>89.144014</td>\n",
       "      <td>5965.272868</td>\n",
       "      <td>3669.501888</td>\n",
       "      <td>3878.959773</td>\n",
       "      <td>799.101306</td>\n",
       "      <td>205.805622</td>\n",
       "      <td>...</td>\n",
       "      <td>6815.570720</td>\n",
       "      <td>16793.335564</td>\n",
       "      <td>2035.576482</td>\n",
       "      <td>554.060527</td>\n",
       "      <td>10857.900604</td>\n",
       "      <td>9184.513353</td>\n",
       "      <td>21926.834967</td>\n",
       "      <td>2709.076813</td>\n",
       "      <td>759.113061</td>\n",
       "      <td>0</td>\n",
       "    </tr>\n",
       "    <tr>\n",
       "      <th>1</th>\n",
       "      <td>3281.766691</td>\n",
       "      <td>1324.146124</td>\n",
       "      <td>1562.018367</td>\n",
       "      <td>674.516976</td>\n",
       "      <td>143.460523</td>\n",
       "      <td>7450.526292</td>\n",
       "      <td>3508.011259</td>\n",
       "      <td>3967.721773</td>\n",
       "      <td>1927.957952</td>\n",
       "      <td>455.949151</td>\n",
       "      <td>...</td>\n",
       "      <td>2424.635150</td>\n",
       "      <td>5500.244278</td>\n",
       "      <td>1569.035776</td>\n",
       "      <td>328.817517</td>\n",
       "      <td>4241.164950</td>\n",
       "      <td>4209.476195</td>\n",
       "      <td>9455.433146</td>\n",
       "      <td>2504.692819</td>\n",
       "      <td>469.660520</td>\n",
       "      <td>0</td>\n",
       "    </tr>\n",
       "    <tr>\n",
       "      <th>2</th>\n",
       "      <td>747.312306</td>\n",
       "      <td>329.477873</td>\n",
       "      <td>362.135408</td>\n",
       "      <td>151.838476</td>\n",
       "      <td>51.112399</td>\n",
       "      <td>2547.192424</td>\n",
       "      <td>990.952011</td>\n",
       "      <td>1387.504255</td>\n",
       "      <td>388.921652</td>\n",
       "      <td>106.367130</td>\n",
       "      <td>...</td>\n",
       "      <td>4993.411658</td>\n",
       "      <td>10874.042851</td>\n",
       "      <td>1712.853163</td>\n",
       "      <td>337.353042</td>\n",
       "      <td>12246.772461</td>\n",
       "      <td>6494.796435</td>\n",
       "      <td>14084.482299</td>\n",
       "      <td>2355.349862</td>\n",
       "      <td>470.040654</td>\n",
       "      <td>0</td>\n",
       "    </tr>\n",
       "    <tr>\n",
       "      <th>3</th>\n",
       "      <td>2600.860612</td>\n",
       "      <td>493.980395</td>\n",
       "      <td>377.710136</td>\n",
       "      <td>302.683334</td>\n",
       "      <td>120.903401</td>\n",
       "      <td>7781.252126</td>\n",
       "      <td>1465.669735</td>\n",
       "      <td>1589.779544</td>\n",
       "      <td>1011.487181</td>\n",
       "      <td>279.222818</td>\n",
       "      <td>...</td>\n",
       "      <td>2089.456492</td>\n",
       "      <td>4281.541837</td>\n",
       "      <td>2344.405562</td>\n",
       "      <td>429.596002</td>\n",
       "      <td>11614.140005</td>\n",
       "      <td>3105.537695</td>\n",
       "      <td>6107.518592</td>\n",
       "      <td>3376.275217</td>\n",
       "      <td>658.990113</td>\n",
       "      <td>0</td>\n",
       "    </tr>\n",
       "    <tr>\n",
       "      <th>4</th>\n",
       "      <td>3265.113160</td>\n",
       "      <td>1114.710590</td>\n",
       "      <td>1554.991710</td>\n",
       "      <td>640.952684</td>\n",
       "      <td>172.871722</td>\n",
       "      <td>6716.523260</td>\n",
       "      <td>2715.544713</td>\n",
       "      <td>4316.685914</td>\n",
       "      <td>1237.838429</td>\n",
       "      <td>272.013394</td>\n",
       "      <td>...</td>\n",
       "      <td>3917.473470</td>\n",
       "      <td>14687.861447</td>\n",
       "      <td>2490.165218</td>\n",
       "      <td>207.475599</td>\n",
       "      <td>7527.934876</td>\n",
       "      <td>4661.270321</td>\n",
       "      <td>17211.050355</td>\n",
       "      <td>2966.345924</td>\n",
       "      <td>272.300652</td>\n",
       "      <td>0</td>\n",
       "    </tr>\n",
       "  </tbody>\n",
       "</table>\n",
       "<p>5 rows × 581 columns</p>\n",
       "</div>"
      ],
      "text/plain": [
       "   Delta_channel0  Theta_channel0  Alpha_channel0  Beta_channel0  \\\n",
       "0     2308.444218     1219.314049     1121.515325     295.488834   \n",
       "1     3281.766691     1324.146124     1562.018367     674.516976   \n",
       "2      747.312306      329.477873      362.135408     151.838476   \n",
       "3     2600.860612      493.980395      377.710136     302.683334   \n",
       "4     3265.113160     1114.710590     1554.991710     640.952684   \n",
       "\n",
       "   Gamma_channel0  Delta_channel1  Theta_channel1  Alpha_channel1  \\\n",
       "0       89.144014     5965.272868     3669.501888     3878.959773   \n",
       "1      143.460523     7450.526292     3508.011259     3967.721773   \n",
       "2       51.112399     2547.192424      990.952011     1387.504255   \n",
       "3      120.903401     7781.252126     1465.669735     1589.779544   \n",
       "4      172.871722     6716.523260     2715.544713     4316.685914   \n",
       "\n",
       "   Beta_channel1  Gamma_channel1  ...  Theta_channel114  Alpha_channel114  \\\n",
       "0     799.101306      205.805622  ...       6815.570720      16793.335564   \n",
       "1    1927.957952      455.949151  ...       2424.635150       5500.244278   \n",
       "2     388.921652      106.367130  ...       4993.411658      10874.042851   \n",
       "3    1011.487181      279.222818  ...       2089.456492       4281.541837   \n",
       "4    1237.838429      272.013394  ...       3917.473470      14687.861447   \n",
       "\n",
       "   Beta_channel114  Gamma_channel114  Delta_channel115  Theta_channel115  \\\n",
       "0      2035.576482        554.060527      10857.900604       9184.513353   \n",
       "1      1569.035776        328.817517       4241.164950       4209.476195   \n",
       "2      1712.853163        337.353042      12246.772461       6494.796435   \n",
       "3      2344.405562        429.596002      11614.140005       3105.537695   \n",
       "4      2490.165218        207.475599       7527.934876       4661.270321   \n",
       "\n",
       "   Alpha_channel115  Beta_channel115  Gamma_channel115  target  \n",
       "0      21926.834967      2709.076813        759.113061       0  \n",
       "1       9455.433146      2504.692819        469.660520       0  \n",
       "2      14084.482299      2355.349862        470.040654       0  \n",
       "3       6107.518592      3376.275217        658.990113       0  \n",
       "4      17211.050355      2966.345924        272.300652       0  \n",
       "\n",
       "[5 rows x 581 columns]"
      ]
     },
     "execution_count": 36,
     "metadata": {},
     "output_type": "execute_result"
    }
   ],
   "source": [
    "df_psd.head()"
   ]
  },
  {
   "cell_type": "code",
   "execution_count": 37,
   "id": "b0d32c03",
   "metadata": {},
   "outputs": [
    {
     "data": {
      "text/plain": [
       "(40, 581)"
      ]
     },
     "execution_count": 37,
     "metadata": {},
     "output_type": "execute_result"
    }
   ],
   "source": [
    "df_psd.shape"
   ]
  },
  {
   "cell_type": "code",
   "execution_count": 38,
   "id": "e77a0855",
   "metadata": {},
   "outputs": [
    {
     "data": {
      "text/plain": [
       "0    20\n",
       "1    20\n",
       "Name: target, dtype: int64"
      ]
     },
     "execution_count": 38,
     "metadata": {},
     "output_type": "execute_result"
    }
   ],
   "source": [
    "df_psd['target'].value_counts()"
   ]
  },
  {
   "cell_type": "code",
   "execution_count": 39,
   "id": "14eab809",
   "metadata": {},
   "outputs": [],
   "source": [
    "df_psd.to_csv('data/psd_580features.csv', index=False)"
   ]
  },
  {
   "cell_type": "code",
   "execution_count": null,
   "id": "be934f8b",
   "metadata": {},
   "outputs": [],
   "source": []
  },
  {
   "cell_type": "code",
   "execution_count": null,
   "id": "c986d26f",
   "metadata": {},
   "outputs": [],
   "source": []
  }
 ],
 "metadata": {
  "kernelspec": {
   "display_name": "ml",
   "language": "python",
   "name": "ml"
  },
  "language_info": {
   "codemirror_mode": {
    "name": "ipython",
    "version": 3
   },
   "file_extension": ".py",
   "mimetype": "text/x-python",
   "name": "python",
   "nbconvert_exporter": "python",
   "pygments_lexer": "ipython3",
   "version": "3.9.7"
  }
 },
 "nbformat": 4,
 "nbformat_minor": 5
}
