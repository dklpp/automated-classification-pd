{
  "nbformat": 4,
  "nbformat_minor": 0,
  "metadata": {
    "colab": {
      "provenance": []
    },
    "kernelspec": {
      "name": "python3",
      "display_name": "Python 3"
    },
    "language_info": {
      "name": "python"
    }
  },
  "cells": [
    {
      "cell_type": "code",
      "execution_count": 1,
      "metadata": {
        "colab": {
          "base_uri": "https://localhost:8080/"
        },
        "id": "5yL8n-g5_UBg",
        "outputId": "67cb1ad7-08cc-454a-ca20-0ba60c411c9d"
      },
      "outputs": [
        {
          "output_type": "stream",
          "name": "stdout",
          "text": [
            "Collecting mrmr_selection\n",
            "  Downloading mrmr_selection-0.2.8-py3-none-any.whl (15 kB)\n",
            "Collecting category-encoders (from mrmr_selection)\n",
            "  Downloading category_encoders-2.6.3-py2.py3-none-any.whl (81 kB)\n",
            "\u001b[2K     \u001b[90m━━━━━━━━━━━━━━━━━━━━━━━━━━━━━━━━━━━━━━━━\u001b[0m \u001b[32m81.9/81.9 kB\u001b[0m \u001b[31m1.6 MB/s\u001b[0m eta \u001b[36m0:00:00\u001b[0m\n",
            "\u001b[?25hRequirement already satisfied: jinja2 in /usr/local/lib/python3.10/dist-packages (from mrmr_selection) (3.1.3)\n",
            "Requirement already satisfied: tqdm in /usr/local/lib/python3.10/dist-packages (from mrmr_selection) (4.66.2)\n",
            "Requirement already satisfied: joblib in /usr/local/lib/python3.10/dist-packages (from mrmr_selection) (1.4.0)\n",
            "Requirement already satisfied: pandas>=1.0.3 in /usr/local/lib/python3.10/dist-packages (from mrmr_selection) (2.0.3)\n",
            "Requirement already satisfied: numpy>=1.18.1 in /usr/local/lib/python3.10/dist-packages (from mrmr_selection) (1.25.2)\n",
            "Requirement already satisfied: scikit-learn in /usr/local/lib/python3.10/dist-packages (from mrmr_selection) (1.2.2)\n",
            "Requirement already satisfied: scipy in /usr/local/lib/python3.10/dist-packages (from mrmr_selection) (1.11.4)\n",
            "Requirement already satisfied: polars>=0.12.5 in /usr/local/lib/python3.10/dist-packages (from mrmr_selection) (0.20.2)\n",
            "Requirement already satisfied: python-dateutil>=2.8.2 in /usr/local/lib/python3.10/dist-packages (from pandas>=1.0.3->mrmr_selection) (2.8.2)\n",
            "Requirement already satisfied: pytz>=2020.1 in /usr/local/lib/python3.10/dist-packages (from pandas>=1.0.3->mrmr_selection) (2023.4)\n",
            "Requirement already satisfied: tzdata>=2022.1 in /usr/local/lib/python3.10/dist-packages (from pandas>=1.0.3->mrmr_selection) (2024.1)\n",
            "Requirement already satisfied: statsmodels>=0.9.0 in /usr/local/lib/python3.10/dist-packages (from category-encoders->mrmr_selection) (0.14.2)\n",
            "Requirement already satisfied: patsy>=0.5.1 in /usr/local/lib/python3.10/dist-packages (from category-encoders->mrmr_selection) (0.5.6)\n",
            "Requirement already satisfied: threadpoolctl>=2.0.0 in /usr/local/lib/python3.10/dist-packages (from scikit-learn->mrmr_selection) (3.4.0)\n",
            "Requirement already satisfied: MarkupSafe>=2.0 in /usr/local/lib/python3.10/dist-packages (from jinja2->mrmr_selection) (2.1.5)\n",
            "Requirement already satisfied: six in /usr/local/lib/python3.10/dist-packages (from patsy>=0.5.1->category-encoders->mrmr_selection) (1.16.0)\n",
            "Requirement already satisfied: packaging>=21.3 in /usr/local/lib/python3.10/dist-packages (from statsmodels>=0.9.0->category-encoders->mrmr_selection) (24.0)\n",
            "Installing collected packages: category-encoders, mrmr_selection\n",
            "Successfully installed category-encoders-2.6.3 mrmr_selection-0.2.8\n"
          ]
        }
      ],
      "source": [
        "pip install mrmr_selection"
      ]
    },
    {
      "cell_type": "code",
      "source": [
        "import pandas as pd\n",
        "from mrmr import mrmr_classif"
      ],
      "metadata": {
        "id": "nZyqGkMt_fHL"
      },
      "execution_count": 4,
      "outputs": []
    },
    {
      "cell_type": "code",
      "source": [
        "list = [\"psd_580features.csv\", \"slopes_580features.csv\"]\n",
        "\n",
        "for i in list:\n",
        "    df = pd.read_csv(i)\n",
        "    print(df.shape)\n",
        "    print(df.head())\n",
        "\n",
        "    X = df.iloc[:, 0:-1]\n",
        "    y = df.iloc[:, -1]\n",
        "\n",
        "    number_of_selected_features = 20\n",
        "    selected_features = mrmr_classif(X=X, y=y, K=number_of_selected_features)\n",
        "    selected_features.append('target')\n",
        "    print(selected_features)\n",
        "\n",
        "    df = df[selected_features]\n",
        "    df.to_csv('MRMR_selected_'+str(number_of_selected_features)+'_'+str(i))\n"
      ],
      "metadata": {
        "colab": {
          "base_uri": "https://localhost:8080/"
        },
        "id": "8mP4bfOP_qfF",
        "outputId": "d6caa394-b173-49ae-bc44-d1bda69b7645"
      },
      "execution_count": 5,
      "outputs": [
        {
          "output_type": "stream",
          "name": "stdout",
          "text": [
            "(40, 581)\n",
            "   Delta_channel0  Theta_channel0  Alpha_channel0  Beta_channel0  \\\n",
            "0     2308.444218     1219.314049     1121.515325     295.488834   \n",
            "1     3281.766691     1324.146124     1562.018367     674.516976   \n",
            "2      747.312306      329.477873      362.135408     151.838476   \n",
            "3     2600.860612      493.980395      377.710136     302.683334   \n",
            "4     3265.113160     1114.710590     1554.991710     640.952684   \n",
            "\n",
            "   Gamma_channel0  Delta_channel1  Theta_channel1  Alpha_channel1  \\\n",
            "0       89.144014     5965.272868     3669.501888     3878.959773   \n",
            "1      143.460523     7450.526292     3508.011259     3967.721773   \n",
            "2       51.112399     2547.192424      990.952011     1387.504255   \n",
            "3      120.903401     7781.252126     1465.669735     1589.779544   \n",
            "4      172.871722     6716.523260     2715.544713     4316.685914   \n",
            "\n",
            "   Beta_channel1  Gamma_channel1  ...  Theta_channel114  Alpha_channel114  \\\n",
            "0     799.101306      205.805622  ...       6815.570720      16793.335564   \n",
            "1    1927.957952      455.949151  ...       2424.635150       5500.244278   \n",
            "2     388.921652      106.367130  ...       4993.411658      10874.042851   \n",
            "3    1011.487181      279.222818  ...       2089.456492       4281.541837   \n",
            "4    1237.838429      272.013394  ...       3917.473470      14687.861447   \n",
            "\n",
            "   Beta_channel114  Gamma_channel114  Delta_channel115  Theta_channel115  \\\n",
            "0      2035.576482        554.060527      10857.900604       9184.513353   \n",
            "1      1569.035776        328.817517       4241.164950       4209.476195   \n",
            "2      1712.853163        337.353042      12246.772461       6494.796435   \n",
            "3      2344.405562        429.596002      11614.140005       3105.537695   \n",
            "4      2490.165218        207.475599       7527.934876       4661.270321   \n",
            "\n",
            "   Alpha_channel115  Beta_channel115  Gamma_channel115  target  \n",
            "0      21926.834967      2709.076813        759.113061       0  \n",
            "1       9455.433146      2504.692819        469.660520       0  \n",
            "2      14084.482299      2355.349862        470.040654       0  \n",
            "3       6107.518592      3376.275217        658.990113       0  \n",
            "4      17211.050355      2966.345924        272.300652       0  \n",
            "\n",
            "[5 rows x 581 columns]\n"
          ]
        },
        {
          "output_type": "stream",
          "name": "stderr",
          "text": [
            "100%|██████████| 20/20 [00:06<00:00,  2.95it/s]\n"
          ]
        },
        {
          "output_type": "stream",
          "name": "stdout",
          "text": [
            "['Theta_channel108', 'Beta_channel84', 'Gamma_channel98', 'Theta_channel87', 'Delta_channel31', 'Gamma_channel96', 'Delta_channel108', 'Delta_channel90', 'Theta_channel31', 'Gamma_channel115', 'Theta_channel115', 'Delta_channel107', 'Gamma_channel112', 'Delta_channel27', 'Theta_channel0', 'Theta_channel95', 'Gamma_channel94', 'Delta_channel23', 'Theta_channel97', 'Delta_channel115', 'target']\n",
            "(40, 581)\n",
            "   Slope_Delta_channel1  Slope_Theta_channel1  Slope_Alpha_channel1  \\\n",
            "0             -0.306048             -0.076067             -1.972159   \n",
            "1             -0.723168              0.468160             -1.104337   \n",
            "2             -0.657620              0.282428             -1.511900   \n",
            "3             -0.851572             -1.360808              0.023854   \n",
            "4             -0.727072              0.564501             -0.949918   \n",
            "\n",
            "   Slope_Beta_channel1  Slope_Gamma_channel1  Slope_Delta_channel2  \\\n",
            "0            -1.396093             -9.893321             -0.208654   \n",
            "1            -1.360878             -9.889068             -0.555383   \n",
            "2            -0.661253             -9.859703             -0.891532   \n",
            "3            -0.572560             -9.880788             -0.919218   \n",
            "4            -1.210446             -9.980929             -0.693245   \n",
            "\n",
            "   Slope_Theta_channel2  Slope_Alpha_channel2  Slope_Beta_channel2  \\\n",
            "0              0.145119             -2.074306            -1.644612   \n",
            "1              0.221350             -0.707420            -1.334701   \n",
            "2              0.576166             -1.867962            -1.253581   \n",
            "3             -1.122783              0.605264            -0.981192   \n",
            "4              0.662302             -1.103339            -1.814917   \n",
            "\n",
            "   Slope_Gamma_channel2  ...  Slope_Theta_channel115  Slope_Alpha_channel115  \\\n",
            "0             -9.740320  ...                1.421544               -2.031883   \n",
            "1            -10.188527  ...                1.237098               -0.321056   \n",
            "2             -9.645000  ...                1.343854               -2.030068   \n",
            "3             -9.455431  ...               -0.461632                0.985291   \n",
            "4             -9.796032  ...                1.944810               -1.359927   \n",
            "\n",
            "   Slope_Beta_channel115  Slope_Gamma_channel115  Slope_Delta_channel116  \\\n",
            "0              -1.782430               -9.952042               -0.137946   \n",
            "1              -1.573043              -10.225805               -0.039740   \n",
            "2              -1.847695               -9.141395               -0.493025   \n",
            "3              -1.803151               -9.038920               -0.745013   \n",
            "4              -2.414122               -9.124230               -0.505233   \n",
            "\n",
            "   Slope_Theta_channel116  Slope_Alpha_channel116  Slope_Beta_channel116  \\\n",
            "0                1.462743               -2.055009              -1.787130   \n",
            "1                1.397402               -0.415047              -1.639541   \n",
            "2                1.288020               -1.950359              -1.797956   \n",
            "3               -0.564793                1.002989              -1.633470   \n",
            "4                1.869712               -1.389887              -2.314490   \n",
            "\n",
            "   Slope_Gamma_channel116  target  \n",
            "0              -10.003358       0  \n",
            "1              -10.125254       0  \n",
            "2               -9.183274       0  \n",
            "3               -9.003338       0  \n",
            "4               -9.187275       0  \n",
            "\n",
            "[5 rows x 581 columns]\n"
          ]
        },
        {
          "output_type": "stream",
          "name": "stderr",
          "text": [
            "100%|██████████| 20/20 [00:03<00:00,  5.64it/s]"
          ]
        },
        {
          "output_type": "stream",
          "name": "stdout",
          "text": [
            "['Slope_Alpha_channel52', 'Slope_Gamma_channel26', 'Slope_Delta_channel47', 'Slope_Alpha_channel51', 'Slope_Theta_channel113', 'Slope_Alpha_channel76', 'Slope_Alpha_channel16', 'Slope_Theta_channel102', 'Slope_Alpha_channel13', 'Slope_Beta_channel42', 'Slope_Alpha_channel14', 'Slope_Theta_channel103', 'Slope_Alpha_channel12', 'Slope_Beta_channel50', 'Slope_Gamma_channel22', 'Slope_Delta_channel49', 'Slope_Alpha_channel37', 'Slope_Alpha_channel75', 'Slope_Theta_channel114', 'Slope_Delta_channel41', 'target']\n"
          ]
        },
        {
          "output_type": "stream",
          "name": "stderr",
          "text": [
            "\n"
          ]
        }
      ]
    },
    {
      "cell_type": "code",
      "source": [
        "list = [\"psd_580features.csv\", \"slopes_580features.csv\"]\n",
        "\n",
        "for i in list:\n",
        "    df = pd.read_csv(i)\n",
        "    print(df.shape)\n",
        "    print(df.head())\n",
        "\n",
        "    X = df.iloc[:, 0:-1]\n",
        "    y = df.iloc[:, -1]\n",
        "\n",
        "    number_of_selected_features = 100\n",
        "    selected_features = mrmr_classif(X=X, y=y, K=number_of_selected_features)\n",
        "    selected_features.append('target')\n",
        "    print(selected_features)\n",
        "\n",
        "    df = df[selected_features]\n",
        "    df.to_csv('MRMR_selected_'+str(number_of_selected_features)+'_'+str(i))\n"
      ],
      "metadata": {
        "colab": {
          "base_uri": "https://localhost:8080/"
        },
        "id": "DPb4U9dTAFK_",
        "outputId": "5f136634-0829-402e-82fa-ccef93fd847d"
      },
      "execution_count": 6,
      "outputs": [
        {
          "output_type": "stream",
          "name": "stdout",
          "text": [
            "(40, 581)\n",
            "   Delta_channel0  Theta_channel0  Alpha_channel0  Beta_channel0  \\\n",
            "0     2308.444218     1219.314049     1121.515325     295.488834   \n",
            "1     3281.766691     1324.146124     1562.018367     674.516976   \n",
            "2      747.312306      329.477873      362.135408     151.838476   \n",
            "3     2600.860612      493.980395      377.710136     302.683334   \n",
            "4     3265.113160     1114.710590     1554.991710     640.952684   \n",
            "\n",
            "   Gamma_channel0  Delta_channel1  Theta_channel1  Alpha_channel1  \\\n",
            "0       89.144014     5965.272868     3669.501888     3878.959773   \n",
            "1      143.460523     7450.526292     3508.011259     3967.721773   \n",
            "2       51.112399     2547.192424      990.952011     1387.504255   \n",
            "3      120.903401     7781.252126     1465.669735     1589.779544   \n",
            "4      172.871722     6716.523260     2715.544713     4316.685914   \n",
            "\n",
            "   Beta_channel1  Gamma_channel1  ...  Theta_channel114  Alpha_channel114  \\\n",
            "0     799.101306      205.805622  ...       6815.570720      16793.335564   \n",
            "1    1927.957952      455.949151  ...       2424.635150       5500.244278   \n",
            "2     388.921652      106.367130  ...       4993.411658      10874.042851   \n",
            "3    1011.487181      279.222818  ...       2089.456492       4281.541837   \n",
            "4    1237.838429      272.013394  ...       3917.473470      14687.861447   \n",
            "\n",
            "   Beta_channel114  Gamma_channel114  Delta_channel115  Theta_channel115  \\\n",
            "0      2035.576482        554.060527      10857.900604       9184.513353   \n",
            "1      1569.035776        328.817517       4241.164950       4209.476195   \n",
            "2      1712.853163        337.353042      12246.772461       6494.796435   \n",
            "3      2344.405562        429.596002      11614.140005       3105.537695   \n",
            "4      2490.165218        207.475599       7527.934876       4661.270321   \n",
            "\n",
            "   Alpha_channel115  Beta_channel115  Gamma_channel115  target  \n",
            "0      21926.834967      2709.076813        759.113061       0  \n",
            "1       9455.433146      2504.692819        469.660520       0  \n",
            "2      14084.482299      2355.349862        470.040654       0  \n",
            "3       6107.518592      3376.275217        658.990113       0  \n",
            "4      17211.050355      2966.345924        272.300652       0  \n",
            "\n",
            "[5 rows x 581 columns]\n"
          ]
        },
        {
          "output_type": "stream",
          "name": "stderr",
          "text": [
            "100%|██████████| 100/100 [00:18<00:00,  5.45it/s]\n"
          ]
        },
        {
          "output_type": "stream",
          "name": "stdout",
          "text": [
            "['Theta_channel108', 'Beta_channel84', 'Gamma_channel98', 'Theta_channel87', 'Delta_channel31', 'Gamma_channel96', 'Delta_channel108', 'Delta_channel90', 'Theta_channel31', 'Gamma_channel115', 'Theta_channel115', 'Delta_channel107', 'Gamma_channel112', 'Delta_channel27', 'Theta_channel0', 'Theta_channel95', 'Gamma_channel94', 'Delta_channel23', 'Theta_channel97', 'Delta_channel115', 'Gamma_channel26', 'Gamma_channel108', 'Theta_channel32', 'Delta_channel94', 'Theta_channel107', 'Theta_channel114', 'Delta_channel28', 'Theta_channel109', 'Gamma_channel114', 'Theta_channel1', 'Delta_channel22', 'Theta_channel105', 'Delta_channel96', 'Theta_channel70', 'Gamma_channel90', 'Delta_channel114', 'Theta_channel83', 'Delta_channel98', 'Theta_channel99', 'Gamma_channel23', 'Beta_channel108', 'Delta_channel112', 'Theta_channel80', 'Delta_channel109', 'Delta_channel30', 'Gamma_channel22', 'Theta_channel94', 'Theta_channel85', 'Theta_channel27', 'Gamma_channel113', 'Delta_channel80', 'Theta_channel113', 'Delta_channel70', 'Beta_channel115', 'Alpha_channel0', 'Theta_channel103', 'Gamma_channel111', 'Delta_channel106', 'Theta_channel91', 'Theta_channel30', 'Delta_channel113', 'Delta_channel36', 'Theta_channel112', 'Delta_channel32', 'Gamma_channel24', 'Delta_channel95', 'Theta_channel90', 'Beta_channel31', 'Delta_channel110', 'Theta_channel106', 'Theta_channel96', 'Delta_channel34', 'Delta_channel21', 'Beta_channel94', 'Delta_channel97', 'Theta_channel104', 'Delta_channel111', 'Theta_channel28', 'Delta_channel26', 'Theta_channel79', 'Theta_channel82', 'Theta_channel66', 'Gamma_channel27', 'Theta_channel102', 'Theta_channel78', 'Beta_channel107', 'Delta_channel92', 'Gamma_channel110', 'Delta_channel38', 'Theta_channel34', 'Beta_channel90', 'Theta_channel98', 'Delta_channel24', 'Delta_channel78', 'Beta_channel114', 'Gamma_channel31', 'Theta_channel110', 'Gamma_channel107', 'Theta_channel38', 'Theta_channel23', 'target']\n",
            "(40, 581)\n",
            "   Slope_Delta_channel1  Slope_Theta_channel1  Slope_Alpha_channel1  \\\n",
            "0             -0.306048             -0.076067             -1.972159   \n",
            "1             -0.723168              0.468160             -1.104337   \n",
            "2             -0.657620              0.282428             -1.511900   \n",
            "3             -0.851572             -1.360808              0.023854   \n",
            "4             -0.727072              0.564501             -0.949918   \n",
            "\n",
            "   Slope_Beta_channel1  Slope_Gamma_channel1  Slope_Delta_channel2  \\\n",
            "0            -1.396093             -9.893321             -0.208654   \n",
            "1            -1.360878             -9.889068             -0.555383   \n",
            "2            -0.661253             -9.859703             -0.891532   \n",
            "3            -0.572560             -9.880788             -0.919218   \n",
            "4            -1.210446             -9.980929             -0.693245   \n",
            "\n",
            "   Slope_Theta_channel2  Slope_Alpha_channel2  Slope_Beta_channel2  \\\n",
            "0              0.145119             -2.074306            -1.644612   \n",
            "1              0.221350             -0.707420            -1.334701   \n",
            "2              0.576166             -1.867962            -1.253581   \n",
            "3             -1.122783              0.605264            -0.981192   \n",
            "4              0.662302             -1.103339            -1.814917   \n",
            "\n",
            "   Slope_Gamma_channel2  ...  Slope_Theta_channel115  Slope_Alpha_channel115  \\\n",
            "0             -9.740320  ...                1.421544               -2.031883   \n",
            "1            -10.188527  ...                1.237098               -0.321056   \n",
            "2             -9.645000  ...                1.343854               -2.030068   \n",
            "3             -9.455431  ...               -0.461632                0.985291   \n",
            "4             -9.796032  ...                1.944810               -1.359927   \n",
            "\n",
            "   Slope_Beta_channel115  Slope_Gamma_channel115  Slope_Delta_channel116  \\\n",
            "0              -1.782430               -9.952042               -0.137946   \n",
            "1              -1.573043              -10.225805               -0.039740   \n",
            "2              -1.847695               -9.141395               -0.493025   \n",
            "3              -1.803151               -9.038920               -0.745013   \n",
            "4              -2.414122               -9.124230               -0.505233   \n",
            "\n",
            "   Slope_Theta_channel116  Slope_Alpha_channel116  Slope_Beta_channel116  \\\n",
            "0                1.462743               -2.055009              -1.787130   \n",
            "1                1.397402               -0.415047              -1.639541   \n",
            "2                1.288020               -1.950359              -1.797956   \n",
            "3               -0.564793                1.002989              -1.633470   \n",
            "4                1.869712               -1.389887              -2.314490   \n",
            "\n",
            "   Slope_Gamma_channel116  target  \n",
            "0              -10.003358       0  \n",
            "1              -10.125254       0  \n",
            "2               -9.183274       0  \n",
            "3               -9.003338       0  \n",
            "4               -9.187275       0  \n",
            "\n",
            "[5 rows x 581 columns]\n"
          ]
        },
        {
          "output_type": "stream",
          "name": "stderr",
          "text": [
            "100%|██████████| 100/100 [00:18<00:00,  5.31it/s]"
          ]
        },
        {
          "output_type": "stream",
          "name": "stdout",
          "text": [
            "['Slope_Alpha_channel52', 'Slope_Gamma_channel26', 'Slope_Delta_channel47', 'Slope_Alpha_channel51', 'Slope_Theta_channel113', 'Slope_Alpha_channel76', 'Slope_Alpha_channel16', 'Slope_Theta_channel102', 'Slope_Alpha_channel13', 'Slope_Beta_channel42', 'Slope_Alpha_channel14', 'Slope_Theta_channel103', 'Slope_Alpha_channel12', 'Slope_Beta_channel50', 'Slope_Gamma_channel22', 'Slope_Delta_channel49', 'Slope_Alpha_channel37', 'Slope_Alpha_channel75', 'Slope_Theta_channel114', 'Slope_Delta_channel41', 'Slope_Beta_channel44', 'Slope_Delta_channel45', 'Slope_Theta_channel94', 'Slope_Alpha_channel56', 'Slope_Theta_channel104', 'Slope_Delta_channel55', 'Slope_Gamma_channel61', 'Slope_Alpha_channel84', 'Slope_Beta_channel22', 'Slope_Alpha_channel19', 'Slope_Theta_channel115', 'Slope_Alpha_channel18', 'Slope_Theta_channel112', 'Slope_Alpha_channel55', 'Slope_Alpha_channel50', 'Slope_Theta_channel67', 'Slope_Delta_channel2', 'Slope_Beta_channel43', 'Slope_Beta_channel61', 'Slope_Alpha_channel40', 'Slope_Delta_channel6', 'Slope_Beta_channel75', 'Slope_Theta_channel105', 'Slope_Alpha_channel53', 'Slope_Theta_channel92', 'Slope_Delta_channel42', 'Slope_Alpha_channel43', 'Slope_Gamma_channel113', 'Slope_Beta_channel11', 'Slope_Delta_channel72', 'Slope_Theta_channel101', 'Slope_Beta_channel113', 'Slope_Alpha_channel11', 'Slope_Delta_channel40', 'Slope_Theta_channel116', 'Slope_Alpha_channel36', 'Slope_Beta_channel65', 'Slope_Delta_channel88', 'Slope_Alpha_channel34', 'Slope_Alpha_channel4', 'Slope_Theta_channel93', 'Slope_Alpha_channel48', 'Slope_Gamma_channel23', 'Slope_Beta_channel40', 'Slope_Delta_channel1', 'Slope_Theta_channel110', 'Slope_Alpha_channel17', 'Slope_Theta_channel111', 'Slope_Alpha_channel49', 'Slope_Theta_channel100', 'Slope_Delta_channel86', 'Slope_Gamma_channel21', 'Slope_Theta_channel109', 'Slope_Delta_channel76', 'Slope_Alpha_channel42', 'Slope_Alpha_channel2', 'Slope_Delta_channel82', 'Slope_Alpha_channel79', 'Slope_Beta_channel64', 'Slope_Alpha_channel7', 'Slope_Delta_channel54', 'Slope_Beta_channel25', 'Slope_Delta_channel78', 'Slope_Alpha_channel21', 'Slope_Gamma_channel112', 'Slope_Alpha_channel46', 'Slope_Beta_channel102', 'Slope_Gamma_channel27', 'Slope_Alpha_channel60', 'Slope_Theta_channel108', 'Slope_Alpha_channel1', 'Slope_Alpha_channel41', 'Slope_Theta_channel98', 'Slope_Alpha_channel78', 'Slope_Beta_channel31', 'Slope_Alpha_channel20', 'Slope_Beta_channel27', 'Slope_Alpha_channel28', 'Slope_Theta_channel107', 'Slope_Beta_channel112', 'target']\n"
          ]
        },
        {
          "output_type": "stream",
          "name": "stderr",
          "text": [
            "\n"
          ]
        }
      ]
    },
    {
      "cell_type": "code",
      "source": [],
      "metadata": {
        "id": "RJPcepkcOrZd"
      },
      "execution_count": null,
      "outputs": []
    }
  ]
}